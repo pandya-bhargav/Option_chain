{
 "cells": [
  {
   "cell_type": "code",
   "execution_count": null,
   "metadata": {},
   "outputs": [],
   "source": []
  },
  {
   "cell_type": "code",
   "execution_count": 1,
   "metadata": {},
   "outputs": [],
   "source": [
    "import numpy as np\n",
    "from scipy.stats import norm\n",
    "\n",
    "N_prime = norm.pdf\n",
    "N = norm.cdf\n",
    "\n",
    "\n",
    "def black_scholes_call(S, K, T, r, sigma):\n",
    "    '''\n",
    "\n",
    "    :param S: Asset price\n",
    "    :param K: Strike price\n",
    "    :param T: Time to maturity\n",
    "    :param r: risk-free rate (treasury bills)\n",
    "    :param sigma: volatility\n",
    "    :return: call price\n",
    "    '''\n",
    "\n",
    "    ###standard black-scholes formula\n",
    "    d1 = (np.log(S / K) + (r + sigma ** 2 / 2) * T) / (sigma * np.sqrt(T))\n",
    "    d2 = d1 - sigma * np.sqrt(T)\n",
    "\n",
    "    call = S * N(d1) -  N(d2)* K * np.exp(-r * T)\n",
    "    return call\n",
    "\n",
    "def vega(S, K, T, r, sigma):\n",
    "    '''\n",
    "\n",
    "    :param S: Asset price\n",
    "    :param K: Strike price\n",
    "    :param T: Time to Maturity\n",
    "    :param r: risk-free rate (treasury bills)\n",
    "    :param sigma: volatility\n",
    "    :return: partial derivative w.r.t volatility\n",
    "    '''\n",
    "\n",
    "    ### calculating d1 from black scholes\n",
    "    d1 = (np.log(S / K) + (r + sigma ** 2 / 2) * T) / (sigma * np.sqrt(T))\n",
    "\n",
    "    #see hull derivatives chapter on greeks for reference\n",
    "    vega = S * N_prime(d1) * np.sqrt(T)\n",
    "    return vega\n",
    "\n",
    "\n",
    "\n",
    "def implied_volatility_call(C, S, K, T, r, tol=0.0001,\n",
    "                            max_iterations=100):\n",
    "    '''\n",
    "\n",
    "    :param C: Observed call price\n",
    "    :param S: Asset price\n",
    "    :param K: Strike Price\n",
    "    :param T: Time to Maturity\n",
    "    :param r: riskfree rate\n",
    "    :param tol: error tolerance in result\n",
    "    :param max_iterations: max iterations to update vol\n",
    "    :return: implied volatility in percent\n",
    "    '''\n",
    "\n",
    "\n",
    "    ### assigning initial volatility estimate for input in Newton_rap procedure\n",
    "    sigma = 0.3\n",
    "    \n",
    "    for i in range(max_iterations):\n",
    "\n",
    "        ### calculate difference between blackscholes price and market price with\n",
    "        ### iteratively updated volality estimate\n",
    "        diff = black_scholes_call(S, K, T, r, sigma) - C\n",
    "\n",
    "        ###break if difference is less than specified tolerance level\n",
    "        if abs(diff) < tol:\n",
    "            print(f'found on {i}th iteration')\n",
    "            print(f'difference is equal to {diff}')\n",
    "            break\n",
    "\n",
    "\n",
    "        ### use newton rapshon to update the estimate\n",
    "        sigma = sigma - diff / vega(S, K, T, r, sigma)\n",
    "        print(sigma)\n",
    "\n",
    "    return sigma"
   ]
  },
  {
   "cell_type": "markdown",
   "metadata": {},
   "source": [
    "\n",
    "    :param C: Observed call price\n",
    "    :param S: Asset price\n",
    "    :param K: Strike Price\n",
    "    :param T: Time to Maturity\n",
    "    :param r: riskfree rate\n",
    "    :param tol: error tolerance in result\n",
    "    :param max_iterations: max iterations to update vol\n",
    "    :return: implied volatility in percent\n"
   ]
  },
  {
   "cell_type": "code",
   "execution_count": 2,
   "metadata": {},
   "outputs": [
    {
     "name": "stdout",
     "output_type": "stream",
     "text": [
      "0.09782246268367026\n",
      "0.09718473873988338\n",
      "found on 2th iteration\n",
      "difference is equal to 6.390774342435179e-05\n",
      "Implied volatility using Newton Rapshon is:  0.09718473873988338\n"
     ]
    }
   ],
   "source": [
    "observed_price = 103.75\n",
    "S = 5250\n",
    "K = 5253\n",
    "T = 60/365\n",
    "r = 0.05\n",
    "\n",
    "imp_vol = implied_volatility_call(observed_price, S, K, T, r)\n",
    "print('Implied volatility using Newton Rapshon is: ',imp_vol)"
   ]
  },
  {
   "cell_type": "code",
   "execution_count": 3,
   "metadata": {},
   "outputs": [],
   "source": [
    "def newtonRap(cp, price, s, k, t, rf):\n",
    "    v = np.sqrt(2*np.pi/t)*price/s\n",
    "\n",
    "    for i in range(1, 100):\n",
    "        d1 = (np.log(s/k)+(rf+0.5*pow(v,2))*t)/(v*np.sqrt(t))\n",
    "        d2 = d1 - v*np.sqrt(t)\n",
    "        vega = s*norm.pdf(d1)*np.sqrt(t)\n",
    "        price0 = cp*s*norm.cdf(cp*d1) - cp*k*np.exp(-rf*t)*norm.cdf(cp*d2)\n",
    "        v = v - (price0 - price)/vega\n",
    "        if abs(price0 - price) < 1e-25 :\n",
    "            break\n",
    "    return v"
   ]
  },
  {
   "cell_type": "code",
   "execution_count": 4,
   "metadata": {},
   "outputs": [
    {
     "name": "stdout",
     "output_type": "stream",
     "text": [
      "Requirement already satisfied: py_vollib in c:\\users\\ibisp\\anaconda3\\lib\\site-packages (1.0.1)Note: you may need to restart the kernel to use updated packages.\n",
      "\n",
      "Requirement already satisfied: py-lets-be-rational in c:\\users\\ibisp\\anaconda3\\lib\\site-packages (from py_vollib) (1.0.1)\n",
      "Requirement already satisfied: simplejson in c:\\users\\ibisp\\anaconda3\\lib\\site-packages (from py_vollib) (3.19.2)\n",
      "Requirement already satisfied: numpy in c:\\users\\ibisp\\anaconda3\\lib\\site-packages (from py_vollib) (1.26.4)\n",
      "Requirement already satisfied: pandas in c:\\users\\ibisp\\anaconda3\\lib\\site-packages (from py_vollib) (2.0.3)\n",
      "Requirement already satisfied: scipy in c:\\users\\ibisp\\anaconda3\\lib\\site-packages (from py_vollib) (1.11.1)\n",
      "Requirement already satisfied: python-dateutil>=2.8.2 in c:\\users\\ibisp\\anaconda3\\lib\\site-packages (from pandas->py_vollib) (2.9.0.post0)\n",
      "Requirement already satisfied: pytz>=2020.1 in c:\\users\\ibisp\\anaconda3\\lib\\site-packages (from pandas->py_vollib) (2023.3.post1)\n",
      "Requirement already satisfied: tzdata>=2022.1 in c:\\users\\ibisp\\anaconda3\\lib\\site-packages (from pandas->py_vollib) (2023.3)\n",
      "Requirement already satisfied: six>=1.5 in c:\\users\\ibisp\\anaconda3\\lib\\site-packages (from python-dateutil>=2.8.2->pandas->py_vollib) (1.16.0)\n"
     ]
    }
   ],
   "source": [
    "pip install py_vollib"
   ]
  },
  {
   "cell_type": "code",
   "execution_count": 5,
   "metadata": {},
   "outputs": [],
   "source": [
    "import py_vollib \n",
    "from py_vollib.black_scholes  import black_scholes as bs\n",
    "from py_vollib.black_scholes.implied_volatility import implied_volatility as iv\n",
    "from py_vollib.black_scholes.greeks.analytical import delta \n",
    "from py_vollib.black_scholes.greeks.analytical import gamma\n",
    "from py_vollib.black_scholes.greeks.analytical import rho\n",
    "from py_vollib.black_scholes.greeks.analytical import theta\n",
    "from py_vollib.black_scholes.greeks.analytical import vega\n",
    "import numpy as np\n",
    "\n",
    "#py_vollib.black_scholes.implied_volatility(price, S, K, t, r, flag)\n",
    "\n",
    "\"\"\"\n",
    "price (float) – the Black-Scholes option price\n",
    "S (float) – underlying asset price\n",
    "sigma (float) – annualized standard deviation, or volatility\n",
    "K (float) – strike price\n",
    "t (float) – time to expiration in years\n",
    "r (float) – risk-free interest rate\n",
    "flag (str) – ‘c’ or ‘p’ for call or put.\n",
    "\"\"\"\n",
    "def greek_val(flag, S, K, t, r, sigma):\n",
    "    price = bs(flag, S, K, t, r, sigma)\n",
    "    imp_v = iv(price, S, K, t, r, flag)\n",
    "    delta_calc = delta(flag, S, K, t, r, sigma)\n",
    "    gamma_calc = gamma(flag, S, K, t, r, sigma)\n",
    "    rho_calc = rho(flag, S, K, t, r, sigma)\n",
    "    theta_calc = theta(flag, S, K, t, r, sigma)\n",
    "    vega_calc = vega(flag, S, K, t, r, sigma)\n",
    "    return np.array([ price, imp_v ,theta_calc, delta_calc ,rho_calc ,vega_calc ,gamma_calc])\n",
    "\n",
    "S = 5247.5\n",
    "K = 5250\n",
    "sigma = 16\n",
    "r = 0.07\n",
    "t = 30/365\n",
    "\n",
    "call=greek_val('c', S, K, t, r, sigma)\n",
    "\n",
    "put=greek_val('p', S, K, t, r, sigma)"
   ]
  },
  {
   "cell_type": "code",
   "execution_count": 89,
   "metadata": {},
   "outputs": [
    {
     "name": "stdout",
     "output_type": "stream",
     "text": [
      "Interpolated volatility at delta 0.35 is 0.1166240277761859\n"
     ]
    }
   ],
   "source": [
    "def find_volatility(delta, arr_delta, arr_volatility):\n",
    "    \"\"\"\n",
    "    Find volatility corresponding to the given delta using binary search.\n",
    "    \n",
    "    Parameters:\n",
    "        delta: float, delta value for which volatility is to be found.\n",
    "        arr_delta: list, array of delta values.\n",
    "        arr_volatility: list, array of corresponding volatility values.\n",
    "    \n",
    "    Returns:\n",
    "        float, interpolated volatility corresponding to the given delta.\n",
    "    \"\"\"\n",
    "    left, right = 0, len(arr_delta) - 1\n",
    "    \n",
    "    while left < right:\n",
    "        mid = (left + right) // 2\n",
    "        if delta == arr_delta[mid]:\n",
    "            return arr_volatility[mid]\n",
    "        elif delta < arr_delta[mid]:\n",
    "            right = mid\n",
    "        else:\n",
    "            left = mid + 1\n",
    "    \n",
    "    if left == 0:\n",
    "        return arr_volatility[0]\n",
    "    elif left == len(arr_delta):\n",
    "        return arr_volatility[-1]\n",
    "    else:\n",
    "        # Perform linear interpolation\n",
    "        x_left, x_right = arr_delta[left - 1], arr_delta[left]\n",
    "        y_left, y_right = arr_volatility[left - 1], arr_volatility[left]\n",
    "        interpolated_volatility = y_left + (delta - x_left) * (y_right - y_left) / (x_right - x_left)\n",
    "        return interpolated_volatility\n",
    "\n",
    "# Given data\n",
    "arr_delta = [0.10177538423678, 0.259835630825842, 0.49938322027473, 0.747229742128656, 0.899755717855416]\n",
    "arr_volatility = [0.108065276902309, 0.113062359205094, 0.122524956552977, 0.14068756252998, 0.172130686873854]\n",
    "\n",
    "# Delta value for which you want to find volatility\n",
    "target_delta = 0.35\n",
    "\n",
    "# Find volatility using binary search\n",
    "interpolated_volatility = find_volatility(target_delta, arr_delta, arr_volatility)\n"
   ]
  },
  {
   "cell_type": "code",
   "execution_count": 94,
   "metadata": {},
   "outputs": [],
   "source": [
    "binary_search = []\n",
    "x_i = []\n",
    "for i in np.arange(0,1,0.02):\n",
    "    x_i.append(i)\n",
    "    binary_search.append(find_volatility(i, arr_delta, arr_volatility))\n"
   ]
  },
  {
   "cell_type": "code",
   "execution_count": null,
   "metadata": {},
   "outputs": [],
   "source": []
  }
 ],
 "metadata": {
  "kernelspec": {
   "display_name": "Python 3 (ipykernel)",
   "language": "python",
   "name": "python3"
  },
  "language_info": {
   "codemirror_mode": {
    "name": "ipython",
    "version": 3
   },
   "file_extension": ".py",
   "mimetype": "text/x-python",
   "name": "python",
   "nbconvert_exporter": "python",
   "pygments_lexer": "ipython3",
   "version": "3.11.5"
  }
 },
 "nbformat": 4,
 "nbformat_minor": 2
}
